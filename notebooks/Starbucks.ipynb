{
 "cells": [
  {
   "cell_type": "markdown",
   "metadata": {},
   "source": [
    "# Portfolio Exercise: Starbucks\n",
    "<br>\n",
    "\n",
    "<img src=\"https://opj.ca/wp-content/uploads/2018/02/New-Starbucks-Logo-1200x969.jpg\" width=\"200\" height=\"200\">\n",
    "<br>\n",
    "<br>\n",
    " \n",
    "## Background Information\n",
    "\n",
    "The dataset you will be provided in this portfolio exercise was originally used as a take-home assignment provided by Starbucks for their job candidates. The data for this exercise consists of about 120,000 data points split in a 2:1 ratio among training and test files. In the experiment simulated by the data, an advertising promotion was tested to see if it would bring more customers to purchase a specific product priced at $10. Since it costs the company 0.15 to send out each promotion, it would be best to limit that promotion only to those that are most receptive to the promotion. Each data point includes one column indicating whether or not an individual was sent a promotion for the product, and one column indicating whether or not that individual eventually purchased that product. Each individual also has seven additional features associated with them, which are provided abstractly as V1-V7.\n",
    "\n",
    "## Optimization Strategy\n",
    "\n",
    "Your task is to use the training data to understand what patterns in V1-V7 to indicate that a promotion should be provided to a user. Specifically, your goal is to maximize the following metrics:\n",
    "\n",
    "**Incremental Response Rate (IRR)** \n",
    "\n",
    "IRR depicts how many more customers purchased the product with the promotion, as compared to if they didn't receive the promotion. Mathematically, it's the ratio of the number of purchasers in the promotion group to the total number of customers in the purchasers group (_treatment_) minus the ratio of the number of purchasers in the non-promotional group to the total number of customers in the non-promotional group (_control_).\n",
    "\n",
    "$$IRR = \\frac{purch_{treat}}{cust_{treat}} - \\frac{purch_{ctrl}}{cust_{ctrl}}$$\n",
    "\n",
    "\n",
    "**Net Incremental Revenue (NIR)**\n",
    "\n",
    "NIR depicts how much is made (or lost) by sending out the promotion. Mathematically, this is 10 times the total number of purchasers that received the promotion minus 0.15 times the number of promotions sent out, minus 10 times the number of purchasers who were not given the promotion.\n",
    "\n",
    "$$NIR = (10\\cdot purch_{treat} - 0.15 \\cdot cust_{treat}) - 10 \\cdot purch_{ctrl}$$\n",
    "\n",
    "For a full description of what Starbucks provides to candidates see the [instructions available here](https://drive.google.com/open?id=18klca9Sef1Rs6q8DW4l7o349r8B70qXM).\n",
    "\n",
    "Below you can find the training data provided.  Explore the data and different optimization strategies.\n",
    "\n",
    "## How To Test Your Strategy?\n",
    "\n",
    "When you feel like you have an optimization strategy, complete the `promotion_strategy` function to pass to the `test_results` function.  \n",
    "From past data, we know there are four possible outcomes:\n",
    "\n",
    "Table of actual promotion vs. predicted promotion customers:  \n",
    "\n",
    "<table>\n",
    "<tr><th></th><th colspan = '2'>Actual</th></tr>\n",
    "<tr><th>Predicted</th><th>Yes</th><th>No</th></tr>\n",
    "<tr><th>Yes</th><td>I</td><td>II</td></tr>\n",
    "<tr><th>No</th><td>III</td><td>IV</td></tr>\n",
    "</table>\n",
    "\n",
    "The metrics are only being compared for the individuals we predict should obtain the promotion – that is, quadrants I and II.  Since the first set of individuals that receive the promotion (in the training set) receive it randomly, we can expect that quadrants I and II will have approximately equivalent participants.  \n",
    "\n",
    "Comparing quadrant I to II then gives an idea of how well your promotion strategy will work in the future. \n",
    "\n",
    "Get started by reading in the data below.  See how each variable or combination of variables along with a promotion influences the chance of purchasing.  When you feel like you have a strategy for who should receive a promotion, test your strategy against the test dataset used in the final `test_results` function."
   ]
  },
  {
   "cell_type": "markdown",
   "metadata": {},
   "source": [
    "---\n",
    "\n",
    "# TL;DR\n",
    "\n",
    "> [GitHub Repo](https://github.com/ZacksAmber/Starbucks)<br>\n",
    "> [Kaggle Notebook](https://www.kaggle.com/zacksshen/starbucks)\n",
    "\n",
    "In this research, I explored the relationship between different promotion strategies and purchases from Starbucks. I am curious about two questions:\n",
    "\n",
    "1. Do promotions bring more purchases, leading to revenue increment?\n",
    "2. If so, how to maximize the purchase, resulting in a better Incremental Response Rate(IRR) and Net Incremental Revenue(NIR)?\n",
    "\n",
    "Therefore, there are one prerequisite and two main parts to answer the above questions:\n",
    "\n",
    "- Exploratory Data Analysis\n",
    "- Part I: Applying A/B Testing for answering the 1st question.\n",
    "- Part II: Implementing Machine Learning for answering the 2nd question.\n",
    "\n",
    "---\n",
    "\n",
    "# Motivation\n",
    "\n",
    "Traditional A/B tests, such as UX design for a website, have no additional cost once the experiment and the website upgrade are done. But what if you have extra and continuous expenses from the new strategy, which comes from the positive feedback of the A/B test? Is this positive change in your business worth the additional costs?\n",
    "\n",
    "In this case, we have some potential customers who are only willing to purchase with a promotion. **Every promotion costs 0.15 USD, while every sold product earns 10 USD**. If we send out promotions to inactive customers who will never purchase, we lose **0.15 USD**. Therefore, the best way to find out proactive customers and send out promotions to them as many as possible.\n",
    "\n",
    "---\n",
    "\n",
    "# Conclusions\n",
    "\n",
    "In this research, we explored how to combine A/B Testing & Machine Learning for powering a real-world target marketing problem. By analyzing the samples with randomly assigned promotions, we conclude that promotions positively impact purchases. Then we trained and tuned Machine Learning models to maximize the IRR & NIR.\n",
    "\n",
    "## Conclusion of Exploratory Data Analysis\n",
    "\n",
    "There are 7 features (`V1` to `V7`), 1 target (`purchase`), and one more feature (`Promotion`), which is the model prediction. In the dataset `../data/training.csv`, `Promotion` was randomly assigned with the value `'Yes'` or `'No'` by Starbucks for evaluating the promotions.\n",
    "\n",
    "- There is no Missing Values issue.\n",
    "- There is an Imbalanced Dataset issue and we will handle it in the Machine Learning part.\n",
    "- There is no Outliers issue.\n",
    "\n",
    "## Conclusion of Part I: A/B Testing\n",
    "\n",
    "$$\\displaystyle IRR = \\frac{purch_{treat}}{cust_{treat}} - \\frac{purch_{ctrl}}{cust_{ctrl}}$$\n",
    "$$\\displaystyle H_0: IRR = 0$$\n",
    "$$\\displaystyle H_1: IRR > 0$$\n",
    "$$\\displaystyle \\alpha = 0.05$$\n",
    "$$\\displaystyle p-value = 5.55 \\times 10^{-36}$$\n",
    "\n",
    "With the p-value of $5.55 \\times 10^{-36}$, which is extremely small, we can reject the null hypothesis, which states that there is no difference between the two groups. And we are more than 99% confident that there is a statistically significant difference in purchase rate between the control and treatment. This means that the promotion has had a significant impact on the purchase rate. Therefore, we can infer that the promotion has been successful in increasing the purchase rate compared to the control group where no promotion was provided. We can recommend the continuation of the promotion strategy to increase sales.\n",
    "\n",
    "It's important to note that statistical significance does not necessarily imply practical significance. And for this research, there is pre-defined practical significance. But the randomly assigned `Promotion` in `training.csv` shows that, with a `Promotion`, the `purchase` increased by **125%**. It means, by applying Machine Learning for better sending out promotions, we can get a better IRR.\n",
    "\n",
    "---\n",
    "\n",
    "## Conclusion of Part II: Machine Learning\n",
    "\n",
    "My tuned model with proper hyperparameters can significantly increase the IRR and NIR. Therefore, Starbucks should apply this ML model as an IRR and NIR improvement promotion strategy. The function made by Starbucks from `src/test_results.py` has an IRR of 0.0188 and a NIR of $189.45.\n",
    "\n",
    "- In comparison to the basic IRR (Random-promotion strategy), my solution increased IRR by **0.0109**, or **114.73%**;\n",
    "- In comparison to the Starbucks IRR (Starbucks-promotion strategy), my solution increased IRR by **0.0016**, or **8.51%**;\n",
    "\n",
    "![IRR Line Plot](https://github.com/ZacksAmber/Starbucks/blob/main/reports/img/irr_line_plot.png?raw=true)\n",
    "\n",
    "- In comparison to the basic NIR (Random-promotion strategy), my solution increased NIR by 2853.5;\n",
    "- In comparison to the Starbucks NIR (Starbucks-promotion strategy), my solution increased NIR by 329.45, or 173.90%;\n",
    "\n",
    "![NIR Line Plot](https://github.com/ZacksAmber/Starbucks/blob/main/reports/img/nir_line_plot.png?raw=true)"
   ]
  },
  {
   "cell_type": "markdown",
   "metadata": {},
   "source": [
    "---\n",
    "\n",
    "# Packages and Modules"
   ]
  },
  {
   "cell_type": "code",
   "execution_count": 1,
   "metadata": {
    "tags": []
   },
   "outputs": [],
   "source": [
    "import matplotlib.pyplot as plt\n",
    "import numpy as np\n",
    "import pandas as pd\n",
    "import numpy as np\n",
    "\n",
    "from xgboost import XGBClassifier\n",
    "from sklearn.metrics import confusion_matrix\n",
    "from statsmodels.stats.proportion import proportions_ztest, proportion_effectsize\n",
    "from statsmodels.stats.power import NormalIndPower\n",
    "from scipy.stats import binom\n",
    "\n",
    "# import sys\n",
    "# sys.path.append('../src')  # add src/ to kernel path\n",
    "# from test_results import score, test_results\n",
    "\n",
    "%matplotlib inline"
   ]
  },
  {
   "cell_type": "code",
   "execution_count": 2,
   "metadata": {},
   "outputs": [],
   "source": [
    "# evaluation function from Starbucks\n",
    "def score(df, promo_pred_col = 'Promotion'):\n",
    "    n_treat       = df.loc[df[promo_pred_col] == 'Yes',:].shape[0]\n",
    "    n_control     = df.loc[df[promo_pred_col] == 'No',:].shape[0]\n",
    "    n_treat_purch = df.loc[df[promo_pred_col] == 'Yes', 'purchase'].sum()\n",
    "    n_ctrl_purch  = df.loc[df[promo_pred_col] == 'No', 'purchase'].sum()\n",
    "    irr = n_treat_purch / n_treat - n_ctrl_purch / n_control\n",
    "    nir = 10 * n_treat_purch - 0.15 * n_treat - 10 * n_ctrl_purch\n",
    "    return (irr, nir)\n",
    "    \n",
    "# evaluation function from Starbucks\n",
    "def test_results(promotion_strategy):\n",
    "    test_data = pd.read_csv('https://raw.githubusercontent.com/ZacksAmber/Starbucks/main/data/Test.csv')\n",
    "    df = test_data[['V1', 'V2', 'V3', 'V4', 'V5', 'V6', 'V7']]\n",
    "    promos = promotion_strategy(df)\n",
    "    score_df = test_data.iloc[np.where(promos == 'Yes')]    \n",
    "    irr, nir = score(score_df)\n",
    "    print(\"Nice job!  See how well your strategy worked on our test data below!\")\n",
    "    print()\n",
    "    print('Your irr with this strategy is {:0.4f}.'.format(irr))\n",
    "    print()\n",
    "    print('Your nir with this strategy is {:0.2f}.'.format(nir))\n",
    "    \n",
    "    print(\"We came up with a model with an irr of {} and an nir of {} on the test set.\\n\\n How did you do?\".format(0.0188, 189.45))\n",
    "    return irr, nir"
   ]
  },
  {
   "cell_type": "markdown",
   "metadata": {},
   "source": [
    "---\n",
    "\n",
    "# Exploratory Data Analysis"
   ]
  },
  {
   "cell_type": "code",
   "execution_count": 3,
   "metadata": {
    "tags": []
   },
   "outputs": [
    {
     "data": {
      "text/html": [
       "<div>\n",
       "<style scoped>\n",
       "    .dataframe tbody tr th:only-of-type {\n",
       "        vertical-align: middle;\n",
       "    }\n",
       "\n",
       "    .dataframe tbody tr th {\n",
       "        vertical-align: top;\n",
       "    }\n",
       "\n",
       "    .dataframe thead th {\n",
       "        text-align: right;\n",
       "    }\n",
       "</style>\n",
       "<table border=\"1\" class=\"dataframe\">\n",
       "  <thead>\n",
       "    <tr style=\"text-align: right;\">\n",
       "      <th></th>\n",
       "      <th>ID</th>\n",
       "      <th>Promotion</th>\n",
       "      <th>purchase</th>\n",
       "      <th>V1</th>\n",
       "      <th>V2</th>\n",
       "      <th>V3</th>\n",
       "      <th>V4</th>\n",
       "      <th>V5</th>\n",
       "      <th>V6</th>\n",
       "      <th>V7</th>\n",
       "    </tr>\n",
       "  </thead>\n",
       "  <tbody>\n",
       "    <tr>\n",
       "      <th>0</th>\n",
       "      <td>1</td>\n",
       "      <td>No</td>\n",
       "      <td>0</td>\n",
       "      <td>2</td>\n",
       "      <td>30.443518</td>\n",
       "      <td>-1.165083</td>\n",
       "      <td>1</td>\n",
       "      <td>1</td>\n",
       "      <td>3</td>\n",
       "      <td>2</td>\n",
       "    </tr>\n",
       "    <tr>\n",
       "      <th>1</th>\n",
       "      <td>3</td>\n",
       "      <td>No</td>\n",
       "      <td>0</td>\n",
       "      <td>3</td>\n",
       "      <td>32.159350</td>\n",
       "      <td>-0.645617</td>\n",
       "      <td>2</td>\n",
       "      <td>3</td>\n",
       "      <td>2</td>\n",
       "      <td>2</td>\n",
       "    </tr>\n",
       "    <tr>\n",
       "      <th>2</th>\n",
       "      <td>4</td>\n",
       "      <td>No</td>\n",
       "      <td>0</td>\n",
       "      <td>2</td>\n",
       "      <td>30.431659</td>\n",
       "      <td>0.133583</td>\n",
       "      <td>1</td>\n",
       "      <td>1</td>\n",
       "      <td>4</td>\n",
       "      <td>2</td>\n",
       "    </tr>\n",
       "    <tr>\n",
       "      <th>3</th>\n",
       "      <td>5</td>\n",
       "      <td>No</td>\n",
       "      <td>0</td>\n",
       "      <td>0</td>\n",
       "      <td>26.588914</td>\n",
       "      <td>-0.212728</td>\n",
       "      <td>2</td>\n",
       "      <td>1</td>\n",
       "      <td>4</td>\n",
       "      <td>2</td>\n",
       "    </tr>\n",
       "    <tr>\n",
       "      <th>4</th>\n",
       "      <td>8</td>\n",
       "      <td>Yes</td>\n",
       "      <td>0</td>\n",
       "      <td>3</td>\n",
       "      <td>28.044331</td>\n",
       "      <td>-0.385883</td>\n",
       "      <td>1</td>\n",
       "      <td>1</td>\n",
       "      <td>2</td>\n",
       "      <td>2</td>\n",
       "    </tr>\n",
       "  </tbody>\n",
       "</table>\n",
       "</div>"
      ],
      "text/plain": [
       "   ID Promotion  purchase  V1         V2        V3  V4  V5  V6  V7\n",
       "0   1        No         0   2  30.443518 -1.165083   1   1   3   2\n",
       "1   3        No         0   3  32.159350 -0.645617   2   3   2   2\n",
       "2   4        No         0   2  30.431659  0.133583   1   1   4   2\n",
       "3   5        No         0   0  26.588914 -0.212728   2   1   4   2\n",
       "4   8       Yes         0   3  28.044331 -0.385883   1   1   2   2"
      ]
     },
     "execution_count": 3,
     "metadata": {},
     "output_type": "execute_result"
    }
   ],
   "source": [
    "# load data\n",
    "train_data = pd.read_csv(\"https://raw.githubusercontent.com/ZacksAmber/Starbucks/main/data/training.csv\")\n",
    "train_data.head()"
   ]
  },
  {
   "cell_type": "code",
   "execution_count": 4,
   "metadata": {
    "tags": []
   },
   "outputs": [
    {
     "data": {
      "text/plain": [
       "ID             int64\n",
       "Promotion     object\n",
       "purchase       int64\n",
       "V1             int64\n",
       "V2           float64\n",
       "V3           float64\n",
       "V4             int64\n",
       "V5             int64\n",
       "V6             int64\n",
       "V7             int64\n",
       "dtype: object"
      ]
     },
     "execution_count": 4,
     "metadata": {},
     "output_type": "execute_result"
    }
   ],
   "source": [
    "train_data.dtypes"
   ]
  },
  {
   "cell_type": "code",
   "execution_count": 5,
   "metadata": {
    "tags": []
   },
   "outputs": [
    {
     "data": {
      "text/html": [
       "<div>\n",
       "<style scoped>\n",
       "    .dataframe tbody tr th:only-of-type {\n",
       "        vertical-align: middle;\n",
       "    }\n",
       "\n",
       "    .dataframe tbody tr th {\n",
       "        vertical-align: top;\n",
       "    }\n",
       "\n",
       "    .dataframe thead th {\n",
       "        text-align: right;\n",
       "    }\n",
       "</style>\n",
       "<table border=\"1\" class=\"dataframe\">\n",
       "  <thead>\n",
       "    <tr style=\"text-align: right;\">\n",
       "      <th></th>\n",
       "      <th>ID</th>\n",
       "      <th>purchase</th>\n",
       "      <th>V1</th>\n",
       "      <th>V2</th>\n",
       "      <th>V3</th>\n",
       "      <th>V4</th>\n",
       "      <th>V5</th>\n",
       "      <th>V6</th>\n",
       "      <th>V7</th>\n",
       "    </tr>\n",
       "  </thead>\n",
       "  <tbody>\n",
       "    <tr>\n",
       "      <th>count</th>\n",
       "      <td>84534.000000</td>\n",
       "      <td>84534.000000</td>\n",
       "      <td>84534.000000</td>\n",
       "      <td>84534.000000</td>\n",
       "      <td>84534.000000</td>\n",
       "      <td>84534.000000</td>\n",
       "      <td>84534.000000</td>\n",
       "      <td>84534.000000</td>\n",
       "      <td>84534.000000</td>\n",
       "    </tr>\n",
       "    <tr>\n",
       "      <th>mean</th>\n",
       "      <td>62970.972413</td>\n",
       "      <td>0.012303</td>\n",
       "      <td>1.500662</td>\n",
       "      <td>29.973600</td>\n",
       "      <td>0.000190</td>\n",
       "      <td>1.679608</td>\n",
       "      <td>2.327643</td>\n",
       "      <td>2.502898</td>\n",
       "      <td>1.701694</td>\n",
       "    </tr>\n",
       "    <tr>\n",
       "      <th>std</th>\n",
       "      <td>36418.440539</td>\n",
       "      <td>0.110234</td>\n",
       "      <td>0.868234</td>\n",
       "      <td>5.010626</td>\n",
       "      <td>1.000485</td>\n",
       "      <td>0.466630</td>\n",
       "      <td>0.841167</td>\n",
       "      <td>1.117349</td>\n",
       "      <td>0.457517</td>\n",
       "    </tr>\n",
       "    <tr>\n",
       "      <th>min</th>\n",
       "      <td>1.000000</td>\n",
       "      <td>0.000000</td>\n",
       "      <td>0.000000</td>\n",
       "      <td>7.104007</td>\n",
       "      <td>-1.684550</td>\n",
       "      <td>1.000000</td>\n",
       "      <td>1.000000</td>\n",
       "      <td>1.000000</td>\n",
       "      <td>1.000000</td>\n",
       "    </tr>\n",
       "    <tr>\n",
       "      <th>25%</th>\n",
       "      <td>31467.250000</td>\n",
       "      <td>0.000000</td>\n",
       "      <td>1.000000</td>\n",
       "      <td>26.591501</td>\n",
       "      <td>-0.905350</td>\n",
       "      <td>1.000000</td>\n",
       "      <td>2.000000</td>\n",
       "      <td>2.000000</td>\n",
       "      <td>1.000000</td>\n",
       "    </tr>\n",
       "    <tr>\n",
       "      <th>50%</th>\n",
       "      <td>62827.500000</td>\n",
       "      <td>0.000000</td>\n",
       "      <td>2.000000</td>\n",
       "      <td>29.979744</td>\n",
       "      <td>-0.039572</td>\n",
       "      <td>2.000000</td>\n",
       "      <td>2.000000</td>\n",
       "      <td>3.000000</td>\n",
       "      <td>2.000000</td>\n",
       "    </tr>\n",
       "    <tr>\n",
       "      <th>75%</th>\n",
       "      <td>94438.750000</td>\n",
       "      <td>0.000000</td>\n",
       "      <td>2.000000</td>\n",
       "      <td>33.344593</td>\n",
       "      <td>0.826206</td>\n",
       "      <td>2.000000</td>\n",
       "      <td>3.000000</td>\n",
       "      <td>4.000000</td>\n",
       "      <td>2.000000</td>\n",
       "    </tr>\n",
       "    <tr>\n",
       "      <th>max</th>\n",
       "      <td>126184.000000</td>\n",
       "      <td>1.000000</td>\n",
       "      <td>3.000000</td>\n",
       "      <td>50.375913</td>\n",
       "      <td>1.691984</td>\n",
       "      <td>2.000000</td>\n",
       "      <td>4.000000</td>\n",
       "      <td>4.000000</td>\n",
       "      <td>2.000000</td>\n",
       "    </tr>\n",
       "  </tbody>\n",
       "</table>\n",
       "</div>"
      ],
      "text/plain": [
       "                  ID      purchase            V1            V2            V3   \n",
       "count   84534.000000  84534.000000  84534.000000  84534.000000  84534.000000  \\\n",
       "mean    62970.972413      0.012303      1.500662     29.973600      0.000190   \n",
       "std     36418.440539      0.110234      0.868234      5.010626      1.000485   \n",
       "min         1.000000      0.000000      0.000000      7.104007     -1.684550   \n",
       "25%     31467.250000      0.000000      1.000000     26.591501     -0.905350   \n",
       "50%     62827.500000      0.000000      2.000000     29.979744     -0.039572   \n",
       "75%     94438.750000      0.000000      2.000000     33.344593      0.826206   \n",
       "max    126184.000000      1.000000      3.000000     50.375913      1.691984   \n",
       "\n",
       "                 V4            V5            V6            V7  \n",
       "count  84534.000000  84534.000000  84534.000000  84534.000000  \n",
       "mean       1.679608      2.327643      2.502898      1.701694  \n",
       "std        0.466630      0.841167      1.117349      0.457517  \n",
       "min        1.000000      1.000000      1.000000      1.000000  \n",
       "25%        1.000000      2.000000      2.000000      1.000000  \n",
       "50%        2.000000      2.000000      3.000000      2.000000  \n",
       "75%        2.000000      3.000000      4.000000      2.000000  \n",
       "max        2.000000      4.000000      4.000000      2.000000  "
      ]
     },
     "execution_count": 5,
     "metadata": {},
     "output_type": "execute_result"
    }
   ],
   "source": [
    "train_data.describe()"
   ]
  },
  {
   "cell_type": "markdown",
   "metadata": {},
   "source": [
    "Target:\n",
    "- `purchase`: Nominal\n",
    "\n",
    "Features:\n",
    "- `V1`: categorical (nominal or ordinal)\n",
    "- `V2`: numeric\n",
    "- `V3`: numeric\n",
    "- `V4`: categorical (nominal or ordinal)\n",
    "- `V5`: categorical (nominal or ordinal)\n",
    "- `V6`: categorical (nominal or ordinal)\n",
    "- `V7`: categorical (nominal or ordinal)\n",
    "\n",
    "Since we have very limited understanding in features `V1` to `V7`, we should skip feature engineering and focus on part 1: A/B testing, and part 2: Machine Learning."
   ]
  },
  {
   "cell_type": "markdown",
   "metadata": {},
   "source": [
    "---\n",
    "\n",
    "## Data Cleansing\n",
    "\n",
    "### Missing Values\n",
    "\n",
    "As we can see there is no missing values issue here."
   ]
  },
  {
   "cell_type": "code",
   "execution_count": 6,
   "metadata": {
    "tags": []
   },
   "outputs": [
    {
     "data": {
      "text/plain": [
       "ID           0.0\n",
       "Promotion    0.0\n",
       "purchase     0.0\n",
       "V1           0.0\n",
       "V2           0.0\n",
       "V3           0.0\n",
       "V4           0.0\n",
       "V5           0.0\n",
       "V6           0.0\n",
       "V7           0.0\n",
       "dtype: float64"
      ]
     },
     "execution_count": 6,
     "metadata": {},
     "output_type": "execute_result"
    }
   ],
   "source": [
    "train_data.isnull().mean()"
   ]
  },
  {
   "cell_type": "markdown",
   "metadata": {
    "tags": []
   },
   "source": [
    "### Imbalanced Datasets\n",
    "\n",
    "The target `purchase` is only 1.7% of the experimental group. Let's say a model predicting 100% people of experimental group will not make a purchase. We still get 98.3% of True Negative data, and 1.7% of False Negative, 98.3% of Accuracy.\n",
    "\n",
    "We have some methods such as oversampling for imbalanced datasets, and we will handle this issue later."
   ]
  },
  {
   "cell_type": "code",
   "execution_count": 7,
   "metadata": {
    "tags": []
   },
   "outputs": [
    {
     "data": {
      "text/plain": [
       "0.017019167217448776"
      ]
     },
     "execution_count": 7,
     "metadata": {},
     "output_type": "execute_result"
    }
   ],
   "source": [
    "train_data[train_data.Promotion == \"Yes\"].purchase.mean()"
   ]
  },
  {
   "cell_type": "markdown",
   "metadata": {},
   "source": [
    "### Outliers\n",
    "\n",
    "As we can see, only feature `V2` has a few outliers, so we will skip this step."
   ]
  },
  {
   "cell_type": "code",
   "execution_count": 8,
   "metadata": {
    "tags": []
   },
   "outputs": [
    {
     "data": {
      "image/png": "[encoded data removed]",
      "text/plain": [
       "<Figure size 640x480 with 1 Axes>"
      ]
     },
     "metadata": {},
     "output_type": "display_data"
    }
   ],
   "source": [
    "# Create a boxplot of features\n",
    "fig, ax = plt.subplots()\n",
    "ax.boxplot(train_data[[\"V1\", \"V2\", \"V3\", \"V4\", \"V5\", \"V6\", \"V7\"]])\n",
    "\n",
    "# Set the title and axis labels\n",
    "ax.set_title(\"Boxplot of V1 to V7\")\n",
    "ax.set_xlabel(\"V1 to V7\")\n",
    "ax.set_ylabel(\"Value\")\n",
    "\n",
    "# Show the plot\n",
    "plt.show()"
   ]
  },
  {
   "cell_type": "code",
   "execution_count": 9,
   "metadata": {
    "tags": []
   },
   "outputs": [
    {
     "name": "stdout",
     "output_type": "stream",
     "text": [
      "Ratio of outliers: 1.1829559703787825e-05\n"
     ]
    }
   ],
   "source": [
    "# Analyze feature V2\n",
    "# Calculate the z-scores for each data point\n",
    "z_scores = (train_data[\"V2\"] - train_data[\"V2\"].mean()) / train_data[\"V2\"].std()\n",
    "\n",
    "# Set a threshold for identifying outliers\n",
    "threshold = 3\n",
    "\n",
    "# Find the indices of the outliers\n",
    "outlier_indices = np.where(\n",
    "    (np.abs(z_scores) < -threshold) | (np.abs(z_scores) > threshold)\n",
    ")\n",
    "\n",
    "# Print the ratio of outliers\n",
    "print(\"Ratio of outliers:\", len(outlier_indices) / train_data[\"V2\"].shape[0])"
   ]
  },
  {
   "cell_type": "code",
   "execution_count": 10,
   "metadata": {
    "tags": []
   },
   "outputs": [
    {
     "data": {
      "text/plain": [
       "<Axes: ylabel='Frequency'>"
      ]
     },
     "execution_count": 10,
     "metadata": {},
     "output_type": "execute_result"
    },
    {
     "data": {
      "image/png": "[encoded data removed]",
      "text/plain": [
       "<Figure size 640x480 with 1 Axes>"
      ]
     },
     "metadata": {},
     "output_type": "display_data"
    }
   ],
   "source": [
    "train_data[\"V2\"].plot.hist()"
   ]
  },
  {
   "cell_type": "markdown",
   "metadata": {
    "tags": []
   },
   "source": [
    "---\n",
    "\n",
    "## Key Metrics: IRR & NIR\n",
    "\n",
    "**Incremental Response Rate (IRR)** \n",
    "\n",
    "IRR depicts how many more customers purchased the product with the promotion, as compared to if they didn't receive the promotion. Mathematically, it's the ratio of the number of purchasers in the promotion group to the total number of customers in the purchasers group (_treatment_) minus the ratio of the number of purchasers in the non-promotional group to the total number of customers in the non-promotional group (_control_).\n",
    "\n",
    "$$ IRR = \\frac{purch_{treat}}{cust_{treat}} - \\frac{purch_{ctrl}}{cust_{ctrl}} $$\n",
    "\n",
    "\n",
    "**Net Incremental Revenue (NIR)**\n",
    "\n",
    "NIR depicts how much is made (or lost) by sending out the promotion. Mathematically, this is 10 times the total number of purchasers that received the promotion minus 0.15 times the number of promotions sent out, minus 10 times the number of purchasers who were not given the promotion.\n",
    "\n",
    "$$ NIR = (10\\cdot purch_{treat} - 0.15 \\cdot cust_{treat}) - 10 \\cdot purch_{ctrl}$$\n",
    "\n",
    "For a full description of what Starbucks provides to candidates see the [instructions available here](https://drive.google.com/open?id=18klca9Sef1Rs6q8DW4l7o349r8B70qXM)."
   ]
  },
  {
   "cell_type": "code",
   "execution_count": 11,
   "metadata": {},
   "outputs": [],
   "source": [
    "# define Group A as g1, Group B as g2\n",
    "g1 = train_data[(train_data.Promotion == \"No\")]\n",
    "g2 = train_data[(train_data.Promotion == \"Yes\")]\n",
    "# get the sample size of g1 & g2\n",
    "n1 = g1.shape[0]\n",
    "n2 = g2.shape[0]\n",
    "n = n1 + n2\n",
    "# get the number of purchase of g1 & g2\n",
    "k1 = g1[g1.purchase == 1].shape[0]\n",
    "k2 = g2[g2.purchase == 1].shape[0]"
   ]
  },
  {
   "cell_type": "code",
   "execution_count": 12,
   "metadata": {
    "tags": []
   },
   "outputs": [
    {
     "name": "stdout",
     "output_type": "stream",
     "text": [
      "0.009454547819772702\n"
     ]
    }
   ],
   "source": [
    "# IRR baseline\n",
    "IRR = k2 / n2 - k1 / n1  # 0.009454547819772702\n",
    "print(IRR)"
   ]
  },
  {
   "cell_type": "markdown",
   "metadata": {},
   "source": [
    "To maximize IRR, we should:\n",
    "- maximize k2, n1\n",
    "- minimize n2, k1"
   ]
  },
  {
   "cell_type": "code",
   "execution_count": 13,
   "metadata": {
    "tags": []
   },
   "outputs": [
    {
     "name": "stdout",
     "output_type": "stream",
     "text": [
      "-2334.5999999999995\n"
     ]
    }
   ],
   "source": [
    "# NIR baseline\n",
    "NIR = (k2 * 10) - n2 * 0.15 - k1 * 10  # -2334.5999999999995\n",
    "print(NIR)"
   ]
  },
  {
   "cell_type": "markdown",
   "metadata": {
    "tags": []
   },
   "source": [
    "To maximize NIR, we should:\n",
    "- maximize k2\n",
    "- minimize n2, k1"
   ]
  },
  {
   "cell_type": "markdown",
   "metadata": {},
   "source": [
    "---\n",
    "\n",
    "## Data/Business Understanding\n",
    "\n",
    "Table of actual promotion vs. predicted promotion customers:  \n",
    "\n",
    "<table>\n",
    "<tr><th></th><th colspan = '2'>Actual</th></tr>\n",
    "<tr><th>Predicted</th><th>Yes</th><th>No</th></tr>\n",
    "<tr><th>Yes</th><td>I</td><td>II</td></tr>\n",
    "<tr><th>No</th><td>III</td><td>IV</td></tr>\n",
    "</table>\n",
    "\n",
    "Therefore, we have 4 types of customers:\n",
    "\n",
    "|Type|Result|Promotion|Purchase|Net Profit (\\$)|\n",
    "|:-:|:-:|:-:|:-:|:-:|\n",
    "|I|TP|1|1|9.85|\n",
    "|II|FP|1|0|-0.15|\n",
    "|III|FN|0|1|10|\n",
    "|IV|TN|0|0|0|\n",
    "\n",
    "Explanations:\n",
    "- Type I: True Positive. We predict this customer will make a purchase so we send out a promotion. And this customer indeed makes a purchase. If promotion can increase the purchase rate, it's a good deal to get this extra income.\n",
    "- Type II: False Positive. We predict this customer will make a purchase so we send out a promotion. But this customer doesn't make a purchase. FP (also called Type I Error) is the metric we really should decrease since it hurts Starbucks' Net Profit.\n",
    "- Type III: False Negative. We predict this customer will not make a purchase so we don't send out any promotions. But this customer in actual makes a purchase. It's the best to have this kind of loyal customers since they can make a purchase without any promotions. But we would better to identify FN (also called Type II Error) for other marketing strategies.\n",
    "- Type IV: True Negative. We predict this customer will not make a purchase so we don't send out any promotions. And this customer indeed makes no purchase."
   ]
  },
  {
   "cell_type": "markdown",
   "metadata": {
    "tags": []
   },
   "source": [
    "---\n",
    "\n",
    "# Part I: A/B Testing\n",
    "\n",
    "In this part, we need to make a purchase funnel for better understanding the flow of a typical customer. Then we need to run an A/A test for checking the invariant metric and run an A/B test for checking the evaluation metric."
   ]
  },
  {
   "cell_type": "markdown",
   "metadata": {
    "tags": []
   },
   "source": [
    "---\n",
    "\n",
    "## General A/B Testing Flowchart\n",
    "\n",
    "![General A/B Testing Flowchart](https://raw.githubusercontent.com/ZacksAmber/Flowcharts/main/general_ab_testing.svg)\n",
    "\n",
    "I made this General A/B Testing Flowchart as a guideline for this project. Since this is a simplified project, we don't have to 100% follow the flowchart. But the main steps are still meaningful.\n",
    "\n",
    "---\n",
    "\n",
    "## [Purchase Funnel](https://en.wikipedia.org/wiki/Purchase_funnel)\n",
    "\n",
    "![Purchase Funnel](../reports/img/purchase_funnel.png)\n",
    "\n",
    "In this project, the simplified purchase funnel is very easy to understand. There is no further steps. A Starbucks customer with or without promotion may make a purchase or may not.\n",
    "\n",
    "Also, for simplifying the whole process, this project already provided invariant metric number of customers and evaluation metric IRR and NIR. Thus we don't have to do any analysis about metric selection."
   ]
  },
  {
   "cell_type": "markdown",
   "metadata": {},
   "source": [
    "---\n",
    "\n",
    "## Calculating the Minimum Sample Size: Power Analysis\n",
    "\n",
    "Well, this assignment didn't define a practical significance. But we can still use the current purchases rate (p1, p2) as baseline, with $\\alpha=.05$, $\\beta=.20$. And see does the sample size big enough to support the A/B Testing conclusion. "
   ]
  },
  {
   "cell_type": "code",
   "execution_count": 14,
   "metadata": {
    "tags": []
   },
   "outputs": [
    {
     "name": "stdout",
     "output_type": "stream",
     "text": [
      "\n",
      "Purchase Rate of Control: 0.007564619397676073\n",
      "Purchase Rate of Treatment: 0.017019167217448776\n",
      "Purchase Rate Diff (p2 - p1): 0.009454547819772702\n",
      "Purchase Rate Diff Ratio ((p2-p1) / p1): 1.2498378732282596\n",
      "\n"
     ]
    }
   ],
   "source": [
    "# define alpha and beta\n",
    "alpha = 0.05\n",
    "beta = 0.20\n",
    "power = 1 - beta\n",
    "\n",
    "# calculate purchase rate from group 1 and group 2 as baseline\n",
    "p1 = k1 / n1\n",
    "p2 = k2 / n2\n",
    "print(\n",
    "    f\"\"\"\n",
    "Purchase Rate of Control: {p1}\n",
    "Purchase Rate of Treatment: {p2}\n",
    "Purchase Rate Diff (p2 - p1): {p2 - p1}\n",
    "Purchase Rate Diff Ratio ((p2-p1) / p1): {(p2-p1) / p1}\n",
    "\"\"\"\n",
    ")"
   ]
  },
  {
   "cell_type": "markdown",
   "metadata": {},
   "source": [
    "Although Purchase Rate Diff: .95% is a very small number, Purchase Rate Diff Ratio is a huge number, 125%!"
   ]
  },
  {
   "cell_type": "code",
   "execution_count": 15,
   "metadata": {
    "tags": []
   },
   "outputs": [
    {
     "data": {
      "text/plain": [
       "1615.3610613913452"
      ]
     },
     "execution_count": 15,
     "metadata": {},
     "output_type": "execute_result"
    }
   ],
   "source": [
    "# power analysis for sample size\n",
    "power_analysis = NormalIndPower()\n",
    "power_analysis.solve_power(\n",
    "    effect_size=proportion_effectsize(p2, p1),\n",
    "    alpha=alpha,\n",
    "    power=power,\n",
    "    alternative=\"larger\",\n",
    ")"
   ]
  },
  {
   "cell_type": "code",
   "execution_count": 16,
   "metadata": {
    "tags": []
   },
   "outputs": [
    {
     "name": "stdout",
     "output_type": "stream",
     "text": [
      "\n",
      "Number of Customers from Control: 42170\n",
      "Number of Customers from Treatment: 42364\n",
      "\n"
     ]
    }
   ],
   "source": [
    "# number of customers from group 1 and group 2\n",
    "print(\n",
    "    f\"\"\"\n",
    "Number of Customers from Control: {n1}\n",
    "Number of Customers from Treatment: {n2}\n",
    "\"\"\"\n",
    ")"
   ]
  },
  {
   "cell_type": "markdown",
   "metadata": {
    "tags": []
   },
   "source": [
    "$cust_{ctrl} = 42170 > 1616, cust_{treat} = 42364 > 1616$. We can safely perform A/B Testing and the result is robust enough to prove the conclusion.\n",
    "\n",
    "You can also do Power Analysis through [G\\*Power](https://www.psychologie.hhu.de/arbeitsgruppen/allgemeine-psychologie-und-arbeitspsychologie/gpower).\n",
    "\n",
    "![Sample Size](https://github.com/ZacksAmber/Starbucks/blob/main/reports/img/sample_size.png?raw=true)"
   ]
  },
  {
   "cell_type": "code",
   "execution_count": 17,
   "metadata": {
    "tags": []
   },
   "outputs": [
    {
     "data": {
      "text/plain": [
       "1.0"
      ]
     },
     "execution_count": 17,
     "metadata": {},
     "output_type": "execute_result"
    }
   ],
   "source": [
    "# power analysis for sample size\n",
    "power_analysis = NormalIndPower()\n",
    "power_analysis.solve_power(\n",
    "    effect_size=proportion_effectsize(p2, p1),\n",
    "    nobs1=n1,\n",
    "    alpha=alpha,\n",
    "    alternative=\"larger\",\n",
    ")"
   ]
  },
  {
   "cell_type": "markdown",
   "metadata": {
    "tags": []
   },
   "source": [
    "With those huge sample size, we even have power = 1.\n",
    "\n",
    "![Power](https://github.com/ZacksAmber/Starbucks/blob/main/reports/img/power.png?raw=true)"
   ]
  },
  {
   "cell_type": "markdown",
   "metadata": {
    "tags": []
   },
   "source": [
    "---\n",
    "\n",
    "## Checking the Invariant Metric: A/A Testing"
   ]
  },
  {
   "cell_type": "markdown",
   "metadata": {},
   "source": [
    "A/A Testing is for checking the invariant metric - number of customers.  If there is a statistically significant difference detected, then we shouldn't move on to the evaluation metrics right away. We must ensure that the random sampling fairly assigned samples to control and treatment group. In this project, $cust_{ctrl}$ should be equal to $cust_{treat}$. So does 42170 is close to 42364? We need to run a one-proportion Z-test.\n",
    "\n",
    "$$ H_0: cust_{ctrl} = cust_{treat} $$\n",
    "$$ H_1: cust_{ctrl} \\neq cust_{treat} $$\n",
    "$$p-value = 0.5$$\n",
    "\n",
    "With a p-value of 0.5, we fail to reject the Null Hypothesis at the 0.05 level of significance. Therefore, there is not enough evidence to suggest that the number of customers in the treatment group is significantly different from the number of customers in the control group."
   ]
  },
  {
   "cell_type": "code",
   "execution_count": 18,
   "metadata": {
    "tags": []
   },
   "outputs": [
    {
     "name": "stdout",
     "output_type": "stream",
     "text": [
      "\n",
      "Number of Customers from Control: 42170\n",
      "Number of Customers from Treatment: 42364\n",
      "\n"
     ]
    }
   ],
   "source": [
    "# number of customers from group 1 and group 2\n",
    "print(\n",
    "    f\"\"\"\n",
    "Number of Customers from Control: {n1}\n",
    "Number of Customers from Treatment: {n2}\n",
    "\"\"\"\n",
    ")"
   ]
  },
  {
   "cell_type": "code",
   "execution_count": 19,
   "metadata": {
    "tags": []
   },
   "outputs": [
    {
     "data": {
      "text/plain": [
       "(-0.6672478204244043, 0.5046138502146766)"
      ]
     },
     "execution_count": 19,
     "metadata": {},
     "output_type": "execute_result"
    }
   ],
   "source": [
    "# One-proportion z-test for Invariant Metric number of customers (n1 & n2)\n",
    "zstat, pval = proportions_ztest(\n",
    "    count=n1, nobs=n, value=0.5, alternative=\"two-sided\", prop_var=False\n",
    ")\n",
    "zstat, pval"
   ]
  },
  {
   "cell_type": "markdown",
   "metadata": {},
   "source": [
    "---\n",
    "\n",
    "## Checking the Evaluation Metric: A/B Testing\n",
    "\n",
    "A/B Testing is for checking the evaluation metric purchase rate. Two-proportion Z-test assumes the data is normal distributed. We will use some Nonparametric testing later.\n",
    "\n",
    "$$\\displaystyle IRR = \\frac{purch_{treat}}{cust_{treat}} - \\frac{purch_{ctrl}}{cust_{ctrl}}$$\n",
    "$$\\displaystyle H_0: IRR = 0$$\n",
    "$$\\displaystyle H_1: IRR > 0$$\n",
    "$$\\displaystyle p-value = 5.55 \\times 10^{-36}$$\n",
    "\n",
    "With a p-value of 5.55×10^-36, which is extremely small, we should reject the Null Hypothesis, which states that there is no difference between the two groups. And we are more than 99% confident that there is a statistically significant difference in purchase rate between the control group and the treatment group. This means that the promotion has a significantly positive impact on the purchase rate. Therefore, we can infer that the promotion has been successful in increasing the purchase rate compared to the control group where no promotion was provided. We can recommend the continuation of the promotion strategy to increase sales.\n",
    "\n",
    "It's important to note that statistical significance does not necessarily imply practical significance. And for this project, there is pre-defined practical significance. But the randomly assigned `Promotion` in `training.csv` shows that, with a `Promotion`, `purchase` increased by **125%**. It means, by applying Machine Learning for better sending out promotions, we can get a better IRR."
   ]
  },
  {
   "cell_type": "code",
   "execution_count": 20,
   "metadata": {},
   "outputs": [
    {
     "data": {
      "text/plain": [
       "(12.468449461599388, 5.548209627035781e-36)"
      ]
     },
     "execution_count": 20,
     "metadata": {},
     "output_type": "execute_result"
    }
   ],
   "source": [
    "# Two-proportion pooled z-test for Evaluation Metric - Purchase Rate\n",
    "d0 = 0  # assume there is no difference between two groups\n",
    "count = [k2, k1]\n",
    "nobs = [n2, n1]\n",
    "\n",
    "zstat, pval = proportions_ztest(\n",
    "    count,\n",
    "    nobs,\n",
    "    value=d0,  # null hypothesis\n",
    "    alternative=\"larger\",\n",
    "    prop_var=False,  # pooled\n",
    ")\n",
    "zstat, pval"
   ]
  },
  {
   "cell_type": "markdown",
   "metadata": {},
   "source": [
    "---\n",
    "\n",
    "## (Optional Non-parametric Tests) Sign Test\n",
    "\n",
    "To run the above two-proportion Z-test for checking the evaluation metric, we assume the sample data is normal distributed according to [Central limit theorem](https://en.wikipedia.org/wiki/Central_limit_theorem).\n",
    "\n",
    "To run a non-parametric test for an independent check, we don't assume that the sample data is normal distributed. In this case, I will use sign test, one of the non-parametric test, to perform the hypothesis testing again.\n",
    "\n",
    "$$\\displaystyle IRR = \\frac{purch_{treat}}{cust_{treat}} - \\frac{purch_{ctrl}}{cust_{ctrl}}$$\n",
    "$$\\displaystyle H_0: IRR = 0$$\n",
    "$$\\displaystyle H_1: IRR > 0$$\n",
    "$$\\displaystyle p-value = 1.93 \\times 10^{-83}$$\n",
    "\n",
    "The purchase rate $p$ is boolean, so it's binomial distributed. The following code shows under the sample size `n=n2` and `p=p1`, the probability of observing number of `k2` purchases. $p-value = 1.93 \\times 10^{-83}$ is an extremely small number, which means we have almost 0 chance to observe this result. Therefore, this is not due to random chance. And we should reject the null hypothesis $\\displaystyle H_0: IRR = 0$ and conclude that the promotion did increase the purchase rate. In other words, the independent sign test maintains the same conclusion as the above A/B test (two-proportion Z-test)."
   ]
  },
  {
   "cell_type": "code",
   "execution_count": 21,
   "metadata": {
    "tags": []
   },
   "outputs": [
    {
     "data": {
      "text/plain": [
       "1.9327527524284637e-83"
      ]
     },
     "execution_count": 21,
     "metadata": {},
     "output_type": "execute_result"
    }
   ],
   "source": [
    "binom(n=n2, p=p1).sf(k2)"
   ]
  },
  {
   "cell_type": "markdown",
   "metadata": {},
   "source": [
    "---\n",
    "\n",
    "## A/B Testing Conclusion"
   ]
  },
  {
   "cell_type": "markdown",
   "metadata": {
    "tags": []
   },
   "source": [
    "---\n",
    "\n",
    "# Part II: Machine Learning\n",
    "\n",
    "Now we already know that randomly assigned promotions did increase the purchase rate. However, remember we have a cost of $0.15 for every promotion. It means we should not send out promotions to all of the customers. What if we do so?\n",
    "\n",
    "As a reminder:"
   ]
  },
  {
   "cell_type": "code",
   "execution_count": 22,
   "metadata": {
    "tags": []
   },
   "outputs": [
    {
     "name": "stdout",
     "output_type": "stream",
     "text": [
      "\n",
      "Baseline of IRR: 0.009454547819772702\n",
      "Baseline of NIR: -2334.5999999999995\n",
      "\n"
     ]
    }
   ],
   "source": [
    "print(\n",
    "    f\"\"\"\n",
    "Baseline of IRR: {IRR}\n",
    "Baseline of NIR: {NIR}\n",
    "\"\"\"\n",
    ")"
   ]
  },
  {
   "cell_type": "code",
   "execution_count": 23,
   "metadata": {
    "tags": []
   },
   "outputs": [
    {
     "name": "stdout",
     "output_type": "stream",
     "text": [
      "Nice job!  See how well your strategy worked on our test data below!\n",
      "\n",
      "Your irr with this strategy is 0.0096.\n",
      "\n",
      "Your nir with this strategy is -1132.20.\n",
      "We came up with a model with an irr of 0.0188 and an nir of 189.45 on the test set.\n",
      "\n",
      " How did you do?\n"
     ]
    },
    {
     "data": {
      "text/plain": [
       "(0.009593158278250108, -1132.1999999999998)"
      ]
     },
     "execution_count": 23,
     "metadata": {},
     "output_type": "execute_result"
    }
   ],
   "source": [
    "# if we send out promotions to all of the customers\n",
    "def promotion_strategy(df):\n",
    "    promotion = np.array([\"Yes\"] * df.shape[0])\n",
    "\n",
    "    return promotion\n",
    "\n",
    "all_irr, all_nir = test_results(promotion_strategy)\n",
    "all_irr, all_nir"
   ]
  },
  {
   "cell_type": "markdown",
   "metadata": {},
   "source": [
    "If every customer has a promotion, we have almost the same IRR of 0.0096. It's not surprising since promotions were randomly assigned to the sample dataset. And we did increase the NIR, which is now $-1132.20. But it is still a negative number. We should not run a promotion strategy for lowering the NIR.\n",
    "\n",
    "So can we apply a better promotion strategy by Machine Learning for a higher IRR and NIR?"
   ]
  },
  {
   "cell_type": "markdown",
   "metadata": {
    "tags": []
   },
   "source": [
    "---\n",
    "\n",
    "## General Machine Learning Flowchart\n",
    "\n",
    "![General Machine Learning Flowchart](https://raw.githubusercontent.com/ZacksAmber/Flowcharts/main/general_ab_testing.svg)\n",
    "\n",
    "I made this General Machine Learning Flowchart as a guideline for this project. Since this is a simplified project, we don't have to 100% follow the flowchart. But the main steps are still meaningful.\n",
    "\n",
    "---\n",
    "\n",
    "## Feature Selection\n",
    "\n",
    "Technically speaking, we need to run heatmap of correlation coefficient or mutual information for feature selection. However, `../src/test_results.py` shows that the test function will take all features. To simplify the question, we will take every feature for Machine Learning.\n",
    "\n",
    "---\n",
    "\n",
    "## Model Selection\n",
    "\n",
    "The target variable `purchase` is labeled data. Thus supervised learning is the best choice; `purchase` is also a boolean variable. Therefore, we need to pick a classifier for this classification problem.\n",
    "\n",
    "I took three commonly used supervised classification ML algorithms as Model Baselines with default arguments and a fixed `random_state`. Please review [Model Baseline.ipynb](../notebooks/Model_Baseline.ipynb) for more info.\n",
    "\n",
    "The results are stored in [../reports/baselines/model_baseline.csv](https://raw.githubusercontent.com/ZacksAmber/Starbucks/main/reports/baselines/model_baseline.csv).\n",
    "\n",
    "As we can see, XGBoost Classifier has better performance than Random Forest Classifier and Logistic Regression. Also, in comparison to the baseline of IRR, NIR, and the IRR and NIR from 'all promotion strategy', even the basic untuned model can beat them."
   ]
  },
  {
   "cell_type": "code",
   "execution_count": 24,
   "metadata": {
    "tags": []
   },
   "outputs": [
    {
     "data": {
      "text/html": [
       "<div>\n",
       "<style scoped>\n",
       "    .dataframe tbody tr th:only-of-type {\n",
       "        vertical-align: middle;\n",
       "    }\n",
       "\n",
       "    .dataframe tbody tr th {\n",
       "        vertical-align: top;\n",
       "    }\n",
       "\n",
       "    .dataframe thead th {\n",
       "        text-align: right;\n",
       "    }\n",
       "</style>\n",
       "<table border=\"1\" class=\"dataframe\">\n",
       "  <thead>\n",
       "    <tr style=\"text-align: right;\">\n",
       "      <th></th>\n",
       "      <th>Model</th>\n",
       "      <th>IRR</th>\n",
       "      <th>NIR</th>\n",
       "    </tr>\n",
       "  </thead>\n",
       "  <tbody>\n",
       "    <tr>\n",
       "      <th>0</th>\n",
       "      <td>Random Forest Classifier</td>\n",
       "      <td>0.000000</td>\n",
       "      <td>-2.40</td>\n",
       "    </tr>\n",
       "    <tr>\n",
       "      <th>1</th>\n",
       "      <td>Logistic Regression</td>\n",
       "      <td>0.015140</td>\n",
       "      <td>18.40</td>\n",
       "    </tr>\n",
       "    <tr>\n",
       "      <th>2</th>\n",
       "      <td>XGBoost Classifier</td>\n",
       "      <td>0.022779</td>\n",
       "      <td>137.65</td>\n",
       "    </tr>\n",
       "  </tbody>\n",
       "</table>\n",
       "</div>"
      ],
      "text/plain": [
       "                      Model       IRR     NIR\n",
       "0  Random Forest Classifier  0.000000   -2.40\n",
       "1       Logistic Regression  0.015140   18.40\n",
       "2        XGBoost Classifier  0.022779  137.65"
      ]
     },
     "execution_count": 24,
     "metadata": {},
     "output_type": "execute_result"
    }
   ],
   "source": [
    "pd.read_csv(\"https://raw.githubusercontent.com/ZacksAmber/Starbucks/main/reports/baselines/model_baseline.csv\")"
   ]
  },
  {
   "cell_type": "markdown",
   "metadata": {},
   "source": [
    "---\n",
    "\n",
    "## Metric Selection\n",
    "\n",
    "As we have our choice of the ML model. It's time to pick a metric for scoring the model. Here are the analysis and tables from Data/Business Understanding part.\n",
    "\n",
    "Table of actual promotion vs. predicted promotion customers:  \n",
    "\n",
    "<table>\n",
    "<tr><th></th><th colspan = '2'>Actual</th></tr>\n",
    "<tr><th>Predicted</th><th>Yes</th><th>No</th></tr>\n",
    "<tr><th>Yes</th><td>I</td><td>II</td></tr>\n",
    "<tr><th>No</th><td>III</td><td>IV</td></tr>\n",
    "</table>\n",
    "\n",
    "Therefore, we have 4 types of customers associated with test results:\n",
    "\n",
    "|Type|Result|Promotion|Purchase|Net Profit (\\$)|\n",
    "|:-:|:-:|:-:|:-:|:-:|\n",
    "|I|TP|1|1|9.85|\n",
    "|II|FP|1|0|-0.15|\n",
    "|III|FN|0|1|10|\n",
    "|IV|TN|0|0|00|\n",
    "\n",
    "Explanations:\n",
    "\n",
    "- Type I: True Positive. We predict this customer will purchase, so we are sending out a promotion. And this customer indeed purchases the product. Although we pay $0.15 for the promotion, it can increase the purchase rate (we proved this in the A/B Test part). So it is still a good deal.\n",
    "- Type II: False Positive. We predict this customer will purchase, so we are sending out a promotion. But this customer makes no purchase. FP (Type I Error) is the metric we really should decrease since it hurts Starbucks' Net Profit.\n",
    "- Type III: False Negative. We predict this customer will not purchase, so we don’t send out any promotions. But this customer actually purchases the product. It’s good to have this kind of loyal customer since they can purchase without any promotions. But we would better identify FN (Type II Error) for further marketing strategies. And make them long-term loyal customers.\n",
    "- Type IV: True Negative. We predict this customer will not make a purchase, so we don’t send out any promotions. And this customer indeed makes no purchase.\n",
    "\n",
    "In this case, either increasing the TP rate or lowering the FP rate is beneficial for Starbucks' Key Metrics -- IRR, and NIR.\n",
    "\n",
    "- $\\displaystyle Recall \\space Score \\space (TPR) = \\frac{TP}{TP + FN}$\n",
    "- $\\displaystyle Precision \\space Score \\space (PPV) = \\frac{TP}{TP + FP}$\n",
    "- $\\displaystyle Treat \\space Score \\space (PPV) = \\frac{TP}{TP + FN + FP}$\n",
    "\n",
    "Therefore, we have three directions for tuning the model - Recall, Precision, or Treat Score. I will also make a metric baseline with commonly used metrics such as accuracy, roc_auc, and f1 score.\n",
    "\n",
    "Notice the IRR and NIR formulas use different metrics than the commonly used scorers. I made three customized scorers for this project to compete with the above scorers - `irr_score`, `nir_score`, and `irr_nir_score`. But they are not exactly the formulas of IRR and IRR. They cannot be the same but can be close to the formulas. If we do so, there is data leakage."
   ]
  },
  {
   "cell_type": "code",
   "execution_count": 25,
   "metadata": {
    "tags": []
   },
   "outputs": [],
   "source": [
    "# define irr score\n",
    "def irr_score(y_true, y_pred):\n",
    "    tn, fp, fn, tp = confusion_matrix(y_true, y_pred).ravel()\n",
    "    return tp / (tp + fp) - fn / (fn + tn)\n",
    "\n",
    "\n",
    "# define nir score\n",
    "def nir_score(y_true, y_pred):\n",
    "    tn, fp, fn, tp = confusion_matrix(y_true, y_pred).ravel()\n",
    "    return (10 * tp - 0.15 * (tp + fp)) - 10 * fn\n",
    "\n",
    "\n",
    "# combine irr score and nir score together\n",
    "def irr_nir_score(y_true, y_pred):\n",
    "    irr = irr_score(y_true, y_pred)\n",
    "    nir = nir_score(y_true, y_pred)\n",
    "    return irr * nir"
   ]
  },
  {
   "cell_type": "markdown",
   "metadata": {},
   "source": [
    "The [Metric_Baseline](../notebooks/Metric_Baseline.ipynb) notebook tunned a XGBClassifier 500 rounds per metric for making the metric baseline. The results are in `../reports/baselines/metric_baseline.csv`.\n",
    "\n",
    "Next, we will tune the model with the top three metrics of NIR - irr_score, treat_score, and roc_auc."
   ]
  },
  {
   "cell_type": "code",
   "execution_count": 26,
   "metadata": {
    "tags": []
   },
   "outputs": [
    {
     "data": {
      "text/html": [
       "<div>\n",
       "<style scoped>\n",
       "    .dataframe tbody tr th:only-of-type {\n",
       "        vertical-align: middle;\n",
       "    }\n",
       "\n",
       "    .dataframe tbody tr th {\n",
       "        vertical-align: top;\n",
       "    }\n",
       "\n",
       "    .dataframe thead th {\n",
       "        text-align: right;\n",
       "    }\n",
       "</style>\n",
       "<table border=\"1\" class=\"dataframe\">\n",
       "  <thead>\n",
       "    <tr style=\"text-align: right;\">\n",
       "      <th></th>\n",
       "      <th>scoring</th>\n",
       "      <th>score</th>\n",
       "      <th>irr</th>\n",
       "      <th>nir</th>\n",
       "      <th>n_promotions</th>\n",
       "      <th>n_trials</th>\n",
       "      <th>best_params</th>\n",
       "    </tr>\n",
       "  </thead>\n",
       "  <tbody>\n",
       "    <tr>\n",
       "      <th>0</th>\n",
       "      <td>make_scorer(irr_score)</td>\n",
       "      <td>0.018176</td>\n",
       "      <td>0.020440</td>\n",
       "      <td>518.90</td>\n",
       "      <td>19463</td>\n",
       "      <td>500</td>\n",
       "      <td>{'max_depth': 2, 'learning_rate': 0.0214920286...</td>\n",
       "    </tr>\n",
       "    <tr>\n",
       "      <th>1</th>\n",
       "      <td>make_scorer(treat_score)</td>\n",
       "      <td>0.026832</td>\n",
       "      <td>0.020738</td>\n",
       "      <td>488.20</td>\n",
       "      <td>17313</td>\n",
       "      <td>500</td>\n",
       "      <td>{'max_depth': 4, 'learning_rate': 0.0119184497...</td>\n",
       "    </tr>\n",
       "    <tr>\n",
       "      <th>2</th>\n",
       "      <td>roc_auc</td>\n",
       "      <td>0.656640</td>\n",
       "      <td>0.020359</td>\n",
       "      <td>469.05</td>\n",
       "      <td>17835</td>\n",
       "      <td>500</td>\n",
       "      <td>{'max_depth': 4, 'learning_rate': 0.0131945820...</td>\n",
       "    </tr>\n",
       "    <tr>\n",
       "      <th>3</th>\n",
       "      <td>f1</td>\n",
       "      <td>0.052957</td>\n",
       "      <td>0.020263</td>\n",
       "      <td>438.40</td>\n",
       "      <td>17263</td>\n",
       "      <td>500</td>\n",
       "      <td>{'max_depth': 4, 'learning_rate': 0.0104123945...</td>\n",
       "    </tr>\n",
       "    <tr>\n",
       "      <th>4</th>\n",
       "      <td>precision</td>\n",
       "      <td>0.029975</td>\n",
       "      <td>0.021447</td>\n",
       "      <td>243.45</td>\n",
       "      <td>7555</td>\n",
       "      <td>500</td>\n",
       "      <td>{'max_depth': 7, 'learning_rate': 0.0671030022...</td>\n",
       "    </tr>\n",
       "    <tr>\n",
       "      <th>5</th>\n",
       "      <td>accuracy</td>\n",
       "      <td>0.952672</td>\n",
       "      <td>0.014332</td>\n",
       "      <td>-5.90</td>\n",
       "      <td>1810</td>\n",
       "      <td>500</td>\n",
       "      <td>{'max_depth': 7, 'learning_rate': 0.0985469859...</td>\n",
       "    </tr>\n",
       "    <tr>\n",
       "      <th>6</th>\n",
       "      <td>make_scorer(irr_nir_score)</td>\n",
       "      <td>1.885476</td>\n",
       "      <td>0.014540</td>\n",
       "      <td>-62.55</td>\n",
       "      <td>28006</td>\n",
       "      <td>500</td>\n",
       "      <td>{'max_depth': 1, 'learning_rate': 0.0267492934...</td>\n",
       "    </tr>\n",
       "    <tr>\n",
       "      <th>7</th>\n",
       "      <td>recall</td>\n",
       "      <td>0.855563</td>\n",
       "      <td>0.014231</td>\n",
       "      <td>-107.90</td>\n",
       "      <td>28355</td>\n",
       "      <td>500</td>\n",
       "      <td>{'max_depth': 1, 'learning_rate': 0.0128012149...</td>\n",
       "    </tr>\n",
       "    <tr>\n",
       "      <th>8</th>\n",
       "      <td>make_scorer(nir_score)</td>\n",
       "      <td>109.440000</td>\n",
       "      <td>0.014231</td>\n",
       "      <td>-107.90</td>\n",
       "      <td>28355</td>\n",
       "      <td>500</td>\n",
       "      <td>{'max_depth': 1, 'learning_rate': 0.0348369824...</td>\n",
       "    </tr>\n",
       "  </tbody>\n",
       "</table>\n",
       "</div>"
      ],
      "text/plain": [
       "                      scoring       score       irr     nir  n_promotions   \n",
       "0      make_scorer(irr_score)    0.018176  0.020440  518.90         19463  \\\n",
       "1    make_scorer(treat_score)    0.026832  0.020738  488.20         17313   \n",
       "2                     roc_auc    0.656640  0.020359  469.05         17835   \n",
       "3                          f1    0.052957  0.020263  438.40         17263   \n",
       "4                   precision    0.029975  0.021447  243.45          7555   \n",
       "5                    accuracy    0.952672  0.014332   -5.90          1810   \n",
       "6  make_scorer(irr_nir_score)    1.885476  0.014540  -62.55         28006   \n",
       "7                      recall    0.855563  0.014231 -107.90         28355   \n",
       "8      make_scorer(nir_score)  109.440000  0.014231 -107.90         28355   \n",
       "\n",
       "   n_trials                                        best_params  \n",
       "0       500  {'max_depth': 2, 'learning_rate': 0.0214920286...  \n",
       "1       500  {'max_depth': 4, 'learning_rate': 0.0119184497...  \n",
       "2       500  {'max_depth': 4, 'learning_rate': 0.0131945820...  \n",
       "3       500  {'max_depth': 4, 'learning_rate': 0.0104123945...  \n",
       "4       500  {'max_depth': 7, 'learning_rate': 0.0671030022...  \n",
       "5       500  {'max_depth': 7, 'learning_rate': 0.0985469859...  \n",
       "6       500  {'max_depth': 1, 'learning_rate': 0.0267492934...  \n",
       "7       500  {'max_depth': 1, 'learning_rate': 0.0128012149...  \n",
       "8       500  {'max_depth': 1, 'learning_rate': 0.0348369824...  "
      ]
     },
     "execution_count": 26,
     "metadata": {},
     "output_type": "execute_result"
    }
   ],
   "source": [
    "metric_baseline = pd.read_csv(\"https://raw.githubusercontent.com/ZacksAmber/Starbucks/main/reports/baselines/metric_baseline.csv\").sort_values(\n",
    "    \"nir\", ascending=False\n",
    ")\n",
    "metric_baseline = metric_baseline.reset_index(drop=True)\n",
    "metric_baseline"
   ]
  },
  {
   "cell_type": "markdown",
   "metadata": {},
   "source": [
    "---\n",
    "\n",
    "## Model Tunning\n",
    "\n",
    "The [Model_Tuning](../notebooks/Model_Tuning.ipynb) notebook tunned a XGBClassifier 5,000 rounds per metric for the top 3 metrics. As we already have some model with good performance, we can narrow down the tuning directions from those hyperparameters from `../reports/baselines/metric_baseline.csv`. The results are in `../reports/tuning_results/model_tuning.csv`."
   ]
  },
  {
   "cell_type": "code",
   "execution_count": 27,
   "metadata": {},
   "outputs": [
    {
     "data": {
      "text/html": [
       "<div>\n",
       "<style scoped>\n",
       "    .dataframe tbody tr th:only-of-type {\n",
       "        vertical-align: middle;\n",
       "    }\n",
       "\n",
       "    .dataframe tbody tr th {\n",
       "        vertical-align: top;\n",
       "    }\n",
       "\n",
       "    .dataframe thead th {\n",
       "        text-align: right;\n",
       "    }\n",
       "</style>\n",
       "<table border=\"1\" class=\"dataframe\">\n",
       "  <thead>\n",
       "    <tr style=\"text-align: right;\">\n",
       "      <th></th>\n",
       "      <th>scoring</th>\n",
       "      <th>score</th>\n",
       "      <th>irr</th>\n",
       "      <th>nir</th>\n",
       "      <th>n_promotions</th>\n",
       "      <th>n_trials</th>\n",
       "      <th>best_params</th>\n",
       "    </tr>\n",
       "  </thead>\n",
       "  <tbody>\n",
       "    <tr>\n",
       "      <th>2</th>\n",
       "      <td>make_scorer(irr_score)</td>\n",
       "      <td>0.018679</td>\n",
       "      <td>0.019554</td>\n",
       "      <td>380.05</td>\n",
       "      <td>17196</td>\n",
       "      <td>5000</td>\n",
       "      <td>{'max_depth': 3, 'learning_rate': 0.0262949073...</td>\n",
       "    </tr>\n",
       "    <tr>\n",
       "      <th>1</th>\n",
       "      <td>make_scorer(treat_score)</td>\n",
       "      <td>0.027801</td>\n",
       "      <td>0.019580</td>\n",
       "      <td>364.40</td>\n",
       "      <td>16311</td>\n",
       "      <td>5000</td>\n",
       "      <td>{'max_depth': 4, 'learning_rate': 0.0275601747...</td>\n",
       "    </tr>\n",
       "    <tr>\n",
       "      <th>0</th>\n",
       "      <td>roc_auc</td>\n",
       "      <td>0.662547</td>\n",
       "      <td>0.018867</td>\n",
       "      <td>341.80</td>\n",
       "      <td>18058</td>\n",
       "      <td>5000</td>\n",
       "      <td>{'max_depth': 4, 'learning_rate': 0.0136341240...</td>\n",
       "    </tr>\n",
       "  </tbody>\n",
       "</table>\n",
       "</div>"
      ],
      "text/plain": [
       "                    scoring     score       irr     nir  n_promotions   \n",
       "2    make_scorer(irr_score)  0.018679  0.019554  380.05         17196  \\\n",
       "1  make_scorer(treat_score)  0.027801  0.019580  364.40         16311   \n",
       "0                   roc_auc  0.662547  0.018867  341.80         18058   \n",
       "\n",
       "   n_trials                                        best_params  \n",
       "2      5000  {'max_depth': 3, 'learning_rate': 0.0262949073...  \n",
       "1      5000  {'max_depth': 4, 'learning_rate': 0.0275601747...  \n",
       "0      5000  {'max_depth': 4, 'learning_rate': 0.0136341240...  "
      ]
     },
     "execution_count": 27,
     "metadata": {},
     "output_type": "execute_result"
    }
   ],
   "source": [
    "model_tuning = pd.read_csv(\"https://raw.githubusercontent.com/ZacksAmber/Starbucks/main/reports/tuning_results/model_tuning.csv\").sort_values(\n",
    "    \"nir\", ascending=False\n",
    ")\n",
    "model_tuning"
   ]
  },
  {
   "cell_type": "markdown",
   "metadata": {},
   "source": [
    "The results show that after 5,000 rounds of model tuning, the score was increased."
   ]
  },
  {
   "cell_type": "code",
   "execution_count": 28,
   "metadata": {
    "tags": []
   },
   "outputs": [
    {
     "data": {
      "text/html": [
       "<div>\n",
       "<style scoped>\n",
       "    .dataframe tbody tr th:only-of-type {\n",
       "        vertical-align: middle;\n",
       "    }\n",
       "\n",
       "    .dataframe tbody tr th {\n",
       "        vertical-align: top;\n",
       "    }\n",
       "\n",
       "    .dataframe thead th {\n",
       "        text-align: right;\n",
       "    }\n",
       "</style>\n",
       "<table border=\"1\" class=\"dataframe\">\n",
       "  <thead>\n",
       "    <tr style=\"text-align: right;\">\n",
       "      <th></th>\n",
       "      <th>scoring</th>\n",
       "      <th>basic score</th>\n",
       "      <th>tuned score</th>\n",
       "      <th>diff</th>\n",
       "      <th>ratio</th>\n",
       "    </tr>\n",
       "  </thead>\n",
       "  <tbody>\n",
       "    <tr>\n",
       "      <th>0</th>\n",
       "      <td>make_scorer(irr_score)</td>\n",
       "      <td>0.018176</td>\n",
       "      <td>0.018679</td>\n",
       "      <td>0.000503</td>\n",
       "      <td>1.027665</td>\n",
       "    </tr>\n",
       "    <tr>\n",
       "      <th>1</th>\n",
       "      <td>make_scorer(treat_score)</td>\n",
       "      <td>0.026832</td>\n",
       "      <td>0.027801</td>\n",
       "      <td>0.000969</td>\n",
       "      <td>1.036105</td>\n",
       "    </tr>\n",
       "    <tr>\n",
       "      <th>2</th>\n",
       "      <td>roc_auc</td>\n",
       "      <td>0.656640</td>\n",
       "      <td>0.662547</td>\n",
       "      <td>0.005906</td>\n",
       "      <td>1.008995</td>\n",
       "    </tr>\n",
       "  </tbody>\n",
       "</table>\n",
       "</div>"
      ],
      "text/plain": [
       "                    scoring  basic score  tuned score      diff     ratio\n",
       "0    make_scorer(irr_score)     0.018176     0.018679  0.000503  1.027665\n",
       "1  make_scorer(treat_score)     0.026832     0.027801  0.000969  1.036105\n",
       "2                   roc_auc     0.656640     0.662547  0.005906  1.008995"
      ]
     },
     "execution_count": 28,
     "metadata": {},
     "output_type": "execute_result"
    }
   ],
   "source": [
    "_df1 = metric_baseline.loc[:3, [\"scoring\", \"score\"]]\n",
    "_df2 = model_tuning[[\"scoring\", \"score\"]]\n",
    "_df = pd.merge(_df1, _df2, on=\"scoring\")\n",
    "_df.rename(columns={\"score_x\": \"basic score\", \"score_y\": \"tuned score\"}, inplace=True)\n",
    "_df[\"diff\"] = _df[\"tuned score\"] - _df[\"basic score\"]\n",
    "_df[\"ratio\"] = _df[\"tuned score\"] / _df[\"basic score\"]\n",
    "_df"
   ]
  },
  {
   "cell_type": "markdown",
   "metadata": {},
   "source": [
    "However, the IRR and NIR are dramatically decrease. I don't think this an overfitting issue since I applied some techniques such as cross validation for prevent from overfitting. I guess this is because, as I mentioned above, the scorers we used for providing feedbacks to the model tuning function are not exactly the same metrics as IRR and NIR. Hence we got a better score but worse IRR and NIR.\n",
    "\n",
    "Notice this is not meant the scorers are negative related to IRR and NIR. This is a curve, and the best way is to find the balanced point."
   ]
  },
  {
   "cell_type": "code",
   "execution_count": 29,
   "metadata": {
    "tags": []
   },
   "outputs": [
    {
     "data": {
      "text/html": [
       "<div>\n",
       "<style scoped>\n",
       "    .dataframe tbody tr th:only-of-type {\n",
       "        vertical-align: middle;\n",
       "    }\n",
       "\n",
       "    .dataframe tbody tr th {\n",
       "        vertical-align: top;\n",
       "    }\n",
       "\n",
       "    .dataframe thead th {\n",
       "        text-align: right;\n",
       "    }\n",
       "</style>\n",
       "<table border=\"1\" class=\"dataframe\">\n",
       "  <thead>\n",
       "    <tr style=\"text-align: right;\">\n",
       "      <th></th>\n",
       "      <th>scoring</th>\n",
       "      <th>basic irr</th>\n",
       "      <th>tuned irr</th>\n",
       "      <th>irr diff</th>\n",
       "      <th>irr ratio</th>\n",
       "      <th>basic nir</th>\n",
       "      <th>tuned nir</th>\n",
       "      <th>nir diff</th>\n",
       "      <th>nir ratio</th>\n",
       "    </tr>\n",
       "  </thead>\n",
       "  <tbody>\n",
       "    <tr>\n",
       "      <th>0</th>\n",
       "      <td>make_scorer(irr_score)</td>\n",
       "      <td>0.020440</td>\n",
       "      <td>0.019554</td>\n",
       "      <td>-0.000886</td>\n",
       "      <td>0.956643</td>\n",
       "      <td>518.90</td>\n",
       "      <td>380.05</td>\n",
       "      <td>-138.85</td>\n",
       "      <td>0.732415</td>\n",
       "    </tr>\n",
       "    <tr>\n",
       "      <th>1</th>\n",
       "      <td>make_scorer(treat_score)</td>\n",
       "      <td>0.020738</td>\n",
       "      <td>0.019580</td>\n",
       "      <td>-0.001158</td>\n",
       "      <td>0.944181</td>\n",
       "      <td>488.20</td>\n",
       "      <td>364.40</td>\n",
       "      <td>-123.80</td>\n",
       "      <td>0.746415</td>\n",
       "    </tr>\n",
       "    <tr>\n",
       "      <th>2</th>\n",
       "      <td>roc_auc</td>\n",
       "      <td>0.020359</td>\n",
       "      <td>0.018867</td>\n",
       "      <td>-0.001492</td>\n",
       "      <td>0.926726</td>\n",
       "      <td>469.05</td>\n",
       "      <td>341.80</td>\n",
       "      <td>-127.25</td>\n",
       "      <td>0.728707</td>\n",
       "    </tr>\n",
       "  </tbody>\n",
       "</table>\n",
       "</div>"
      ],
      "text/plain": [
       "                    scoring  basic irr  tuned irr  irr diff  irr ratio   \n",
       "0    make_scorer(irr_score)   0.020440   0.019554 -0.000886   0.956643  \\\n",
       "1  make_scorer(treat_score)   0.020738   0.019580 -0.001158   0.944181   \n",
       "2                   roc_auc   0.020359   0.018867 -0.001492   0.926726   \n",
       "\n",
       "   basic nir  tuned nir  nir diff  nir ratio  \n",
       "0     518.90     380.05   -138.85   0.732415  \n",
       "1     488.20     364.40   -123.80   0.746415  \n",
       "2     469.05     341.80   -127.25   0.728707  "
      ]
     },
     "execution_count": 29,
     "metadata": {},
     "output_type": "execute_result"
    }
   ],
   "source": [
    "_df1 = metric_baseline.loc[:3, [\"scoring\", \"irr\", \"nir\"]]\n",
    "_df2 = model_tuning[[\"scoring\", \"irr\", \"nir\"]]\n",
    "_df = pd.merge(_df1, _df2, on=\"scoring\")\n",
    "_df.rename(\n",
    "    columns={\n",
    "        \"irr_x\": \"basic irr\",\n",
    "        \"irr_y\": \"tuned irr\",\n",
    "        \"nir_x\": \"basic nir\",\n",
    "        \"nir_y\": \"tuned nir\",\n",
    "    },\n",
    "    inplace=True,\n",
    ")\n",
    "_df[\"irr diff\"] = _df[\"tuned irr\"] - _df[\"basic irr\"]\n",
    "_df[\"irr ratio\"] = _df[\"tuned irr\"] / _df[\"basic irr\"]\n",
    "_df[\"nir diff\"] = _df[\"tuned nir\"] - _df[\"basic nir\"]\n",
    "_df[\"nir ratio\"] = _df[\"tuned nir\"] / _df[\"basic nir\"]\n",
    "_df = _df[\n",
    "    [\n",
    "        \"scoring\",\n",
    "        \"basic irr\",\n",
    "        \"tuned irr\",\n",
    "        \"irr diff\",\n",
    "        \"irr ratio\",\n",
    "        \"basic nir\",\n",
    "        \"tuned nir\",\n",
    "        \"nir diff\",\n",
    "        \"nir ratio\",\n",
    "    ]\n",
    "]\n",
    "_df"
   ]
  },
  {
   "cell_type": "markdown",
   "metadata": {
    "tags": []
   },
   "source": [
    "---\n",
    "\n",
    "## ML Conclusion\n",
    "\n",
    "As the the conclusion, I prefer the following ML strategy for maximizing the IRR and NIR:\n",
    "- Model: XGBoost Classifier\n",
    "- Features: All\n",
    "- Metric: irr scorer (customized by `tp / (tp + fp) - fn / (fn + tn)`)\n",
    "- IRR: 0.02044\n",
    "- NIR: 518.9\n",
    "- Hyperparameters: `{'max_depth': 2, 'learning_rate': 0.021492028660464936, 'n_estimators': 150, 'gamma': 0.36845846324372045, 'subsample': 0.5231164896905167, 'colsample_bytree': 0.9518652110310841, 'reg_alpha': 3.226360958881916, 'reg_lambda': 9.115116073351663, 'min_child_weight': 32}`\n",
    "\n",
    "My tuned model with proper hyperparameters can significantly increase the IRR and NIR. Therefore, Starbucks should apply this ML model as an IRR and NIR improvement promotion strategy.\n",
    "\n",
    "- In comparison to the basic IRR (Random-promotion strategy), my solution increased IRR by 0.0109, or 114.73%;\n",
    "- In comparison to the basic NIR (Random-promotion strategy), my solution increased NIR by 2853.5;\n",
    "- In comparison to the Starbucks IRR (Starbucks-promotion strategy), my solution increased IRR by 0.0016, or 8.51%;\n",
    "- In comparison to the Starbucks NIR (Starbucks-promotion strategy), my solution increased NIR by 329.45, or 173.90%;"
   ]
  },
  {
   "cell_type": "code",
   "execution_count": 30,
   "metadata": {
    "tags": []
   },
   "outputs": [
    {
     "data": {
      "text/plain": [
       "scoring                                    make_scorer(irr_score)\n",
       "score                                                    0.018176\n",
       "irr                                                       0.02044\n",
       "nir                                                         518.9\n",
       "n_promotions                                                19463\n",
       "n_trials                                                      500\n",
       "best_params     {'max_depth': 2, 'learning_rate': 0.0214920286...\n",
       "Name: 0, dtype: object"
      ]
     },
     "execution_count": 30,
     "metadata": {},
     "output_type": "execute_result"
    }
   ],
   "source": [
    "metric_baseline.iloc[0]"
   ]
  },
  {
   "cell_type": "code",
   "execution_count": 31,
   "metadata": {
    "tags": []
   },
   "outputs": [
    {
     "name": "stdout",
     "output_type": "stream",
     "text": [
      "{'max_depth': 2, 'learning_rate': 0.021492028660464936, 'n_estimators': 150, 'gamma': 0.36845846324372045, 'subsample': 0.5231164896905167, 'colsample_bytree': 0.9518652110310841, 'reg_alpha': 3.226360958881916, 'reg_lambda': 9.115116073351663, 'min_child_weight': 32}\n"
     ]
    }
   ],
   "source": [
    "best_irr = metric_baseline.iloc[0].irr\n",
    "best_nir = metric_baseline.iloc[0].nir\n",
    "print(metric_baseline.loc[0, \"best_params\"])"
   ]
  },
  {
   "cell_type": "code",
   "execution_count": 32,
   "metadata": {
    "tags": []
   },
   "outputs": [
    {
     "data": {
      "text/html": [
       "<div>\n",
       "<style scoped>\n",
       "    .dataframe tbody tr th:only-of-type {\n",
       "        vertical-align: middle;\n",
       "    }\n",
       "\n",
       "    .dataframe tbody tr th {\n",
       "        vertical-align: top;\n",
       "    }\n",
       "\n",
       "    .dataframe thead th {\n",
       "        text-align: right;\n",
       "    }\n",
       "</style>\n",
       "<table border=\"1\" class=\"dataframe\">\n",
       "  <thead>\n",
       "    <tr style=\"text-align: right;\">\n",
       "      <th></th>\n",
       "      <th>Label</th>\n",
       "      <th>IRR</th>\n",
       "      <th>NIR</th>\n",
       "    </tr>\n",
       "  </thead>\n",
       "  <tbody>\n",
       "    <tr>\n",
       "      <th>0</th>\n",
       "      <td>Random-promotion</td>\n",
       "      <td>0.0095</td>\n",
       "      <td>-2334.60</td>\n",
       "    </tr>\n",
       "    <tr>\n",
       "      <th>1</th>\n",
       "      <td>All-promotion</td>\n",
       "      <td>0.0096</td>\n",
       "      <td>-1132.20</td>\n",
       "    </tr>\n",
       "    <tr>\n",
       "      <th>2</th>\n",
       "      <td>Starbucks-promotion</td>\n",
       "      <td>0.0188</td>\n",
       "      <td>189.45</td>\n",
       "    </tr>\n",
       "    <tr>\n",
       "      <th>3</th>\n",
       "      <td>Best-promotion</td>\n",
       "      <td>0.0204</td>\n",
       "      <td>518.90</td>\n",
       "    </tr>\n",
       "  </tbody>\n",
       "</table>\n",
       "</div>"
      ],
      "text/plain": [
       "                 Label     IRR      NIR\n",
       "0     Random-promotion  0.0095 -2334.60\n",
       "1        All-promotion  0.0096 -1132.20\n",
       "2  Starbucks-promotion  0.0188   189.45\n",
       "3       Best-promotion  0.0204   518.90"
      ]
     },
     "execution_count": 32,
     "metadata": {},
     "output_type": "execute_result"
    }
   ],
   "source": [
    "df = pd.DataFrame(\n",
    "    {\n",
    "        \"Label\": [\"Random-promotion\", \"All-promotion\", \"Starbucks-promotion\", \"Best-promotion\"],\n",
    "        \"IRR\": [round(IRR, 4), round(all_irr, 4), 0.0188, round(best_irr, 4)],\n",
    "        \"NIR\": [round(NIR, 2), round(all_nir, 2), 189.45, round(best_nir, 2)],\n",
    "    }\n",
    ")\n",
    "\n",
    "df"
   ]
  },
  {
   "cell_type": "code",
   "execution_count": 33,
   "metadata": {
    "tags": []
   },
   "outputs": [
    {
     "data": {
      "image/png": "[encoded data removed]",
      "text/plain": [
       "<Figure size 640x480 with 1 Axes>"
      ]
     },
     "metadata": {},
     "output_type": "display_data"
    }
   ],
   "source": [
    "# Create line plot for IRR\n",
    "x, y = df.Label, df.IRR\n",
    "plt.plot(x, y)\n",
    "\n",
    "# Annotate each y value\n",
    "for i, j in zip(x, y):\n",
    "    plt.annotate(str(j), xy=(i, j))\n",
    "\n",
    "# Add x and y axis labels\n",
    "plt.xlabel(\"Strategy\")\n",
    "plt.ylabel(\"IRR\")\n",
    "\n",
    "# Add title\n",
    "plt.title(\"IRR Line Plot\")\n",
    "\n",
    "# Save plot\n",
    "# plt.savefig('irr_line_plot.png')\n",
    "\n",
    "# Show plot\n",
    "plt.show()"
   ]
  },
  {
   "cell_type": "code",
   "execution_count": 34,
   "metadata": {
    "tags": []
   },
   "outputs": [
    {
     "data": {
      "image/png": "[encoded data removed]",
      "text/plain": [
       "<Figure size 640x480 with 1 Axes>"
      ]
     },
     "metadata": {},
     "output_type": "display_data"
    }
   ],
   "source": [
    "# Create line plot for IRR\n",
    "x, y = df.Label, df.NIR\n",
    "plt.plot(x, y)\n",
    "\n",
    "# Annotate each y value\n",
    "for i, j in zip(x, y):\n",
    "    plt.annotate(str(j), xy=(i, j))\n",
    "\n",
    "# Add x and y axis labels\n",
    "plt.xlabel(\"Strategy\")\n",
    "plt.ylabel(\"NIR\")\n",
    "\n",
    "# Add title\n",
    "plt.title(\"NIR Line Plot\")\n",
    "\n",
    "# Save plot\n",
    "# plt.savefig('nir_line_plot.png')\n",
    "\n",
    "# Show plot\n",
    "plt.show()"
   ]
  },
  {
   "cell_type": "code",
   "execution_count": null,
   "metadata": {},
   "outputs": [],
   "source": []
  }
 ],
 "metadata": {
  "kernelspec": {
   "display_name": "Starbucks",
   "language": "python",
   "name": "starbucks"
  },
  "language_info": {
   "codemirror_mode": {
    "name": "ipython",
    "version": 3
   },
   "file_extension": ".py",
   "mimetype": "text/x-python",
   "name": "python",
   "nbconvert_exporter": "python",
   "pygments_lexer": "ipython3",
   "version": "3.10.10"
  }
 },
 "nbformat": 4,
 "nbformat_minor": 4
}
